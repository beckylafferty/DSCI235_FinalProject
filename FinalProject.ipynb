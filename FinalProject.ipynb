{
 "cells": [
  {
   "cell_type": "markdown",
   "id": "83c3e6b4",
   "metadata": {},
   "source": [
    "# Dodgers Baseball Statistics"
   ]
  },
  {
   "cell_type": "markdown",
   "id": "6ab607f9",
   "metadata": {},
   "source": [
    "### Introduction"
   ]
  },
  {
   "cell_type": "markdown",
   "id": "71505ba6",
   "metadata": {},
   "source": [
    "Sports statistics and data is a huge field of interest to the public. One sport is known for their specific statistics and having what many consider to be \"random\" information that is provided during games. This sport is baseball. \n",
    "\n",
    "Watching baseball has always been something I have enjoyed since a young age. Although I've always liked the sport, I didn't become a huge fan until early 2010's. This was when I became a fan of the Los Angeles Dodgers. Prior to that, I enjoyed baseball and going to games, but I didn't follow until I watched the Dodgers play.\n",
    "\n",
    "For this project, I thought it would be a great opportunity to get to dive deep into my favorite baseball team and get to learn a little bit about them. I was able to find a large data bank on Kaggle on baseball data. Since I am interested in a specific team throughout the history of the game, I have chosen a subset data frame called \"Teams\" to explore. "
   ]
  },
  {
   "cell_type": "code",
   "execution_count": 1,
   "id": "e9a3ea53",
   "metadata": {},
   "outputs": [],
   "source": [
    "import pandas as pd\n",
    "import numpy as np\n",
    "import matplotlib.pyplot as plt"
   ]
  },
  {
   "cell_type": "markdown",
   "id": "f4ab4ecd",
   "metadata": {},
   "source": [
    "First, lets download the \"Teams\" Data Frame and take a peek into it. "
   ]
  },
  {
   "cell_type": "code",
   "execution_count": 2,
   "id": "602dd76d",
   "metadata": {
    "scrolled": true
   },
   "outputs": [
    {
     "data": {
      "text/html": [
       "<div>\n",
       "<style scoped>\n",
       "    .dataframe tbody tr th:only-of-type {\n",
       "        vertical-align: middle;\n",
       "    }\n",
       "\n",
       "    .dataframe tbody tr th {\n",
       "        vertical-align: top;\n",
       "    }\n",
       "\n",
       "    .dataframe thead th {\n",
       "        text-align: right;\n",
       "    }\n",
       "</style>\n",
       "<table border=\"1\" class=\"dataframe\">\n",
       "  <thead>\n",
       "    <tr style=\"text-align: right;\">\n",
       "      <th></th>\n",
       "      <th>yearID</th>\n",
       "      <th>lgID</th>\n",
       "      <th>teamID</th>\n",
       "      <th>franchID</th>\n",
       "      <th>divID</th>\n",
       "      <th>Rank</th>\n",
       "      <th>G</th>\n",
       "      <th>Ghome</th>\n",
       "      <th>W</th>\n",
       "      <th>L</th>\n",
       "      <th>...</th>\n",
       "      <th>DP</th>\n",
       "      <th>FP</th>\n",
       "      <th>name</th>\n",
       "      <th>park</th>\n",
       "      <th>attendance</th>\n",
       "      <th>BPF</th>\n",
       "      <th>PPF</th>\n",
       "      <th>teamIDBR</th>\n",
       "      <th>teamIDlahman45</th>\n",
       "      <th>teamIDretro</th>\n",
       "    </tr>\n",
       "  </thead>\n",
       "  <tbody>\n",
       "    <tr>\n",
       "      <th>0</th>\n",
       "      <td>1871</td>\n",
       "      <td>NaN</td>\n",
       "      <td>BS1</td>\n",
       "      <td>BNA</td>\n",
       "      <td>NaN</td>\n",
       "      <td>3</td>\n",
       "      <td>31</td>\n",
       "      <td>NaN</td>\n",
       "      <td>20</td>\n",
       "      <td>10</td>\n",
       "      <td>...</td>\n",
       "      <td>NaN</td>\n",
       "      <td>0.830</td>\n",
       "      <td>Boston Red Stockings</td>\n",
       "      <td>South End Grounds I</td>\n",
       "      <td>NaN</td>\n",
       "      <td>103</td>\n",
       "      <td>98</td>\n",
       "      <td>BOS</td>\n",
       "      <td>BS1</td>\n",
       "      <td>BS1</td>\n",
       "    </tr>\n",
       "    <tr>\n",
       "      <th>1</th>\n",
       "      <td>1871</td>\n",
       "      <td>NaN</td>\n",
       "      <td>CH1</td>\n",
       "      <td>CNA</td>\n",
       "      <td>NaN</td>\n",
       "      <td>2</td>\n",
       "      <td>28</td>\n",
       "      <td>NaN</td>\n",
       "      <td>19</td>\n",
       "      <td>9</td>\n",
       "      <td>...</td>\n",
       "      <td>NaN</td>\n",
       "      <td>0.820</td>\n",
       "      <td>Chicago White Stockings</td>\n",
       "      <td>Union Base-Ball Grounds</td>\n",
       "      <td>NaN</td>\n",
       "      <td>104</td>\n",
       "      <td>102</td>\n",
       "      <td>CHI</td>\n",
       "      <td>CH1</td>\n",
       "      <td>CH1</td>\n",
       "    </tr>\n",
       "    <tr>\n",
       "      <th>2</th>\n",
       "      <td>1871</td>\n",
       "      <td>NaN</td>\n",
       "      <td>CL1</td>\n",
       "      <td>CFC</td>\n",
       "      <td>NaN</td>\n",
       "      <td>8</td>\n",
       "      <td>29</td>\n",
       "      <td>NaN</td>\n",
       "      <td>10</td>\n",
       "      <td>19</td>\n",
       "      <td>...</td>\n",
       "      <td>NaN</td>\n",
       "      <td>0.810</td>\n",
       "      <td>Cleveland Forest Citys</td>\n",
       "      <td>National Association Grounds</td>\n",
       "      <td>NaN</td>\n",
       "      <td>96</td>\n",
       "      <td>100</td>\n",
       "      <td>CLE</td>\n",
       "      <td>CL1</td>\n",
       "      <td>CL1</td>\n",
       "    </tr>\n",
       "    <tr>\n",
       "      <th>3</th>\n",
       "      <td>1871</td>\n",
       "      <td>NaN</td>\n",
       "      <td>FW1</td>\n",
       "      <td>KEK</td>\n",
       "      <td>NaN</td>\n",
       "      <td>7</td>\n",
       "      <td>19</td>\n",
       "      <td>NaN</td>\n",
       "      <td>7</td>\n",
       "      <td>12</td>\n",
       "      <td>...</td>\n",
       "      <td>NaN</td>\n",
       "      <td>0.800</td>\n",
       "      <td>Fort Wayne Kekiongas</td>\n",
       "      <td>Hamilton Field</td>\n",
       "      <td>NaN</td>\n",
       "      <td>101</td>\n",
       "      <td>107</td>\n",
       "      <td>KEK</td>\n",
       "      <td>FW1</td>\n",
       "      <td>FW1</td>\n",
       "    </tr>\n",
       "    <tr>\n",
       "      <th>4</th>\n",
       "      <td>1871</td>\n",
       "      <td>NaN</td>\n",
       "      <td>NY2</td>\n",
       "      <td>NNA</td>\n",
       "      <td>NaN</td>\n",
       "      <td>5</td>\n",
       "      <td>33</td>\n",
       "      <td>NaN</td>\n",
       "      <td>16</td>\n",
       "      <td>17</td>\n",
       "      <td>...</td>\n",
       "      <td>NaN</td>\n",
       "      <td>0.830</td>\n",
       "      <td>New York Mutuals</td>\n",
       "      <td>Union Grounds (Brooklyn)</td>\n",
       "      <td>NaN</td>\n",
       "      <td>90</td>\n",
       "      <td>88</td>\n",
       "      <td>NYU</td>\n",
       "      <td>NY2</td>\n",
       "      <td>NY2</td>\n",
       "    </tr>\n",
       "    <tr>\n",
       "      <th>...</th>\n",
       "      <td>...</td>\n",
       "      <td>...</td>\n",
       "      <td>...</td>\n",
       "      <td>...</td>\n",
       "      <td>...</td>\n",
       "      <td>...</td>\n",
       "      <td>...</td>\n",
       "      <td>...</td>\n",
       "      <td>...</td>\n",
       "      <td>...</td>\n",
       "      <td>...</td>\n",
       "      <td>...</td>\n",
       "      <td>...</td>\n",
       "      <td>...</td>\n",
       "      <td>...</td>\n",
       "      <td>...</td>\n",
       "      <td>...</td>\n",
       "      <td>...</td>\n",
       "      <td>...</td>\n",
       "      <td>...</td>\n",
       "      <td>...</td>\n",
       "    </tr>\n",
       "    <tr>\n",
       "      <th>2800</th>\n",
       "      <td>2015</td>\n",
       "      <td>NL</td>\n",
       "      <td>LAN</td>\n",
       "      <td>LAD</td>\n",
       "      <td>W</td>\n",
       "      <td>1</td>\n",
       "      <td>162</td>\n",
       "      <td>81.0</td>\n",
       "      <td>92</td>\n",
       "      <td>70</td>\n",
       "      <td>...</td>\n",
       "      <td>133.0</td>\n",
       "      <td>0.988</td>\n",
       "      <td>Los Angeles Dodgers</td>\n",
       "      <td>Dodger Stadium</td>\n",
       "      <td>3764815.0</td>\n",
       "      <td>101</td>\n",
       "      <td>98</td>\n",
       "      <td>LAD</td>\n",
       "      <td>LAN</td>\n",
       "      <td>LAN</td>\n",
       "    </tr>\n",
       "    <tr>\n",
       "      <th>2801</th>\n",
       "      <td>2015</td>\n",
       "      <td>NL</td>\n",
       "      <td>SFN</td>\n",
       "      <td>SFG</td>\n",
       "      <td>W</td>\n",
       "      <td>2</td>\n",
       "      <td>162</td>\n",
       "      <td>81.0</td>\n",
       "      <td>84</td>\n",
       "      <td>78</td>\n",
       "      <td>...</td>\n",
       "      <td>145.0</td>\n",
       "      <td>0.987</td>\n",
       "      <td>San Francisco Giants</td>\n",
       "      <td>AT&amp;T Park</td>\n",
       "      <td>3375882.0</td>\n",
       "      <td>99</td>\n",
       "      <td>97</td>\n",
       "      <td>SFG</td>\n",
       "      <td>SFN</td>\n",
       "      <td>SFN</td>\n",
       "    </tr>\n",
       "    <tr>\n",
       "      <th>2802</th>\n",
       "      <td>2015</td>\n",
       "      <td>NL</td>\n",
       "      <td>ARI</td>\n",
       "      <td>ARI</td>\n",
       "      <td>W</td>\n",
       "      <td>3</td>\n",
       "      <td>162</td>\n",
       "      <td>81.0</td>\n",
       "      <td>79</td>\n",
       "      <td>83</td>\n",
       "      <td>...</td>\n",
       "      <td>146.0</td>\n",
       "      <td>0.986</td>\n",
       "      <td>Arizona Diamondbacks</td>\n",
       "      <td>Chase Field</td>\n",
       "      <td>2080145.0</td>\n",
       "      <td>107</td>\n",
       "      <td>106</td>\n",
       "      <td>ARI</td>\n",
       "      <td>ARI</td>\n",
       "      <td>ARI</td>\n",
       "    </tr>\n",
       "    <tr>\n",
       "      <th>2803</th>\n",
       "      <td>2015</td>\n",
       "      <td>NL</td>\n",
       "      <td>SDN</td>\n",
       "      <td>SDP</td>\n",
       "      <td>W</td>\n",
       "      <td>4</td>\n",
       "      <td>162</td>\n",
       "      <td>81.0</td>\n",
       "      <td>74</td>\n",
       "      <td>88</td>\n",
       "      <td>...</td>\n",
       "      <td>138.0</td>\n",
       "      <td>0.985</td>\n",
       "      <td>San Diego Padres</td>\n",
       "      <td>Petco Park</td>\n",
       "      <td>2459742.0</td>\n",
       "      <td>98</td>\n",
       "      <td>97</td>\n",
       "      <td>SDP</td>\n",
       "      <td>SDN</td>\n",
       "      <td>SDN</td>\n",
       "    </tr>\n",
       "    <tr>\n",
       "      <th>2804</th>\n",
       "      <td>2015</td>\n",
       "      <td>NL</td>\n",
       "      <td>COL</td>\n",
       "      <td>COL</td>\n",
       "      <td>W</td>\n",
       "      <td>5</td>\n",
       "      <td>162</td>\n",
       "      <td>81.0</td>\n",
       "      <td>68</td>\n",
       "      <td>94</td>\n",
       "      <td>...</td>\n",
       "      <td>171.0</td>\n",
       "      <td>0.985</td>\n",
       "      <td>Colorado Rockies</td>\n",
       "      <td>Coors Field</td>\n",
       "      <td>2506789.0</td>\n",
       "      <td>119</td>\n",
       "      <td>118</td>\n",
       "      <td>COL</td>\n",
       "      <td>COL</td>\n",
       "      <td>COL</td>\n",
       "    </tr>\n",
       "  </tbody>\n",
       "</table>\n",
       "<p>2805 rows × 48 columns</p>\n",
       "</div>"
      ],
      "text/plain": [
       "      yearID lgID teamID franchID divID  Rank    G  Ghome   W   L  ...     DP  \\\n",
       "0       1871  NaN    BS1      BNA   NaN     3   31    NaN  20  10  ...    NaN   \n",
       "1       1871  NaN    CH1      CNA   NaN     2   28    NaN  19   9  ...    NaN   \n",
       "2       1871  NaN    CL1      CFC   NaN     8   29    NaN  10  19  ...    NaN   \n",
       "3       1871  NaN    FW1      KEK   NaN     7   19    NaN   7  12  ...    NaN   \n",
       "4       1871  NaN    NY2      NNA   NaN     5   33    NaN  16  17  ...    NaN   \n",
       "...      ...  ...    ...      ...   ...   ...  ...    ...  ..  ..  ...    ...   \n",
       "2800    2015   NL    LAN      LAD     W     1  162   81.0  92  70  ...  133.0   \n",
       "2801    2015   NL    SFN      SFG     W     2  162   81.0  84  78  ...  145.0   \n",
       "2802    2015   NL    ARI      ARI     W     3  162   81.0  79  83  ...  146.0   \n",
       "2803    2015   NL    SDN      SDP     W     4  162   81.0  74  88  ...  138.0   \n",
       "2804    2015   NL    COL      COL     W     5  162   81.0  68  94  ...  171.0   \n",
       "\n",
       "         FP                     name                          park  \\\n",
       "0     0.830     Boston Red Stockings           South End Grounds I   \n",
       "1     0.820  Chicago White Stockings       Union Base-Ball Grounds   \n",
       "2     0.810   Cleveland Forest Citys  National Association Grounds   \n",
       "3     0.800     Fort Wayne Kekiongas                Hamilton Field   \n",
       "4     0.830         New York Mutuals      Union Grounds (Brooklyn)   \n",
       "...     ...                      ...                           ...   \n",
       "2800  0.988      Los Angeles Dodgers                Dodger Stadium   \n",
       "2801  0.987     San Francisco Giants                     AT&T Park   \n",
       "2802  0.986     Arizona Diamondbacks                   Chase Field   \n",
       "2803  0.985         San Diego Padres                    Petco Park   \n",
       "2804  0.985         Colorado Rockies                   Coors Field   \n",
       "\n",
       "      attendance  BPF  PPF  teamIDBR  teamIDlahman45  teamIDretro  \n",
       "0            NaN  103   98       BOS             BS1          BS1  \n",
       "1            NaN  104  102       CHI             CH1          CH1  \n",
       "2            NaN   96  100       CLE             CL1          CL1  \n",
       "3            NaN  101  107       KEK             FW1          FW1  \n",
       "4            NaN   90   88       NYU             NY2          NY2  \n",
       "...          ...  ...  ...       ...             ...          ...  \n",
       "2800   3764815.0  101   98       LAD             LAN          LAN  \n",
       "2801   3375882.0   99   97       SFG             SFN          SFN  \n",
       "2802   2080145.0  107  106       ARI             ARI          ARI  \n",
       "2803   2459742.0   98   97       SDP             SDN          SDN  \n",
       "2804   2506789.0  119  118       COL             COL          COL  \n",
       "\n",
       "[2805 rows x 48 columns]"
      ]
     },
     "execution_count": 2,
     "metadata": {},
     "output_type": "execute_result"
    }
   ],
   "source": [
    "baseball_teams = pd.read_csv(\"C:/Users/becka/OneDrive/Documents/DSCI_235/archive/Teams.csv\")\n",
    "baseball_teams"
   ]
  },
  {
   "cell_type": "markdown",
   "id": "f48c09c1",
   "metadata": {},
   "source": [
    "As we can see here, this is a very large data set made up of 2805 rows and 48 columns. Each row corresponds to a year from 1871 to 2015 along with a team that played in Major League Baseball for that year. The columns of data give a lot of different infromation from team name, franchise, division, rank of the team based on year, games played, fielding information, pitching information, bating information and home stadium information. Specific key columns that we will be paying attention to are: \n",
    "\n",
    "__yearID__: This shows the year that all of the following information in the columns for that row are related to.\n",
    "\n",
    "__franchID__: This shows the name of the franchise for the team. There are some teams that have changed their team name over the years and this is the only way to know if the team is considered the same team over the 144 years of data. \n",
    "\n",
    "__Rank__: This is the placement of the baseball team for the year compared to all other teams that were in the league that year. \n",
    "\n",
    "__name__: This is the name of the baseball team. "
   ]
  },
  {
   "cell_type": "markdown",
   "id": "a66de9de",
   "metadata": {},
   "source": [
    "Something that I am interested in looking at is trends over the entire lifetime of the LAD Franchise. I am interested to see in name changes that the team has had over their lifetime of being in professional baseball, the average rank of the team over the years, and how well this team has done compared to all other teams in the MLB.  \n",
    "\n",
    "_Note: LAD franchise and Dodgers team are synonymous in this project._"
   ]
  },
  {
   "cell_type": "markdown",
   "id": "3904eff8",
   "metadata": {},
   "source": [
    "### Creating subset data frames from Teams data set"
   ]
  },
  {
   "cell_type": "markdown",
   "id": "abb6a5f0",
   "metadata": {},
   "source": [
    "The \"Teams\" data set is very large as previously mentioned and includes information for every team that played each year from 1871 to 2015. I am currently only interested in learning information about the Dodgers, so we can go ahead and creating a smaller data set with only the information that we are interested in. We can do this by determining the franchise name (FranchID) of the current Los Angeles Dodgers team. The franchID for the Los Angeles Dodgers is LAD. "
   ]
  },
  {
   "cell_type": "code",
   "execution_count": 3,
   "id": "a1d3dcc9",
   "metadata": {},
   "outputs": [
    {
     "data": {
      "text/html": [
       "<div>\n",
       "<style scoped>\n",
       "    .dataframe tbody tr th:only-of-type {\n",
       "        vertical-align: middle;\n",
       "    }\n",
       "\n",
       "    .dataframe tbody tr th {\n",
       "        vertical-align: top;\n",
       "    }\n",
       "\n",
       "    .dataframe thead th {\n",
       "        text-align: right;\n",
       "    }\n",
       "</style>\n",
       "<table border=\"1\" class=\"dataframe\">\n",
       "  <thead>\n",
       "    <tr style=\"text-align: right;\">\n",
       "      <th></th>\n",
       "      <th>yearID</th>\n",
       "      <th>lgID</th>\n",
       "      <th>teamID</th>\n",
       "      <th>franchID</th>\n",
       "      <th>divID</th>\n",
       "      <th>Rank</th>\n",
       "      <th>G</th>\n",
       "      <th>Ghome</th>\n",
       "      <th>W</th>\n",
       "      <th>L</th>\n",
       "      <th>...</th>\n",
       "      <th>DP</th>\n",
       "      <th>FP</th>\n",
       "      <th>name</th>\n",
       "      <th>park</th>\n",
       "      <th>attendance</th>\n",
       "      <th>BPF</th>\n",
       "      <th>PPF</th>\n",
       "      <th>teamIDBR</th>\n",
       "      <th>teamIDlahman45</th>\n",
       "      <th>teamIDretro</th>\n",
       "    </tr>\n",
       "  </thead>\n",
       "  <tbody>\n",
       "    <tr>\n",
       "      <th>128</th>\n",
       "      <td>1884</td>\n",
       "      <td>AA</td>\n",
       "      <td>BR3</td>\n",
       "      <td>LAD</td>\n",
       "      <td>NaN</td>\n",
       "      <td>9</td>\n",
       "      <td>109</td>\n",
       "      <td>NaN</td>\n",
       "      <td>40</td>\n",
       "      <td>64</td>\n",
       "      <td>...</td>\n",
       "      <td>NaN</td>\n",
       "      <td>0.880</td>\n",
       "      <td>Brooklyn Atlantics</td>\n",
       "      <td>Washington Park I</td>\n",
       "      <td>NaN</td>\n",
       "      <td>100</td>\n",
       "      <td>102</td>\n",
       "      <td>BRO</td>\n",
       "      <td>BR3</td>\n",
       "      <td>BR3</td>\n",
       "    </tr>\n",
       "    <tr>\n",
       "      <th>159</th>\n",
       "      <td>1885</td>\n",
       "      <td>AA</td>\n",
       "      <td>BR3</td>\n",
       "      <td>LAD</td>\n",
       "      <td>NaN</td>\n",
       "      <td>5</td>\n",
       "      <td>112</td>\n",
       "      <td>NaN</td>\n",
       "      <td>53</td>\n",
       "      <td>59</td>\n",
       "      <td>...</td>\n",
       "      <td>NaN</td>\n",
       "      <td>0.910</td>\n",
       "      <td>Brooklyn Grays</td>\n",
       "      <td>Washington Park I</td>\n",
       "      <td>NaN</td>\n",
       "      <td>100</td>\n",
       "      <td>102</td>\n",
       "      <td>BRO</td>\n",
       "      <td>BR3</td>\n",
       "      <td>BR3</td>\n",
       "    </tr>\n",
       "    <tr>\n",
       "      <th>174</th>\n",
       "      <td>1886</td>\n",
       "      <td>AA</td>\n",
       "      <td>BR3</td>\n",
       "      <td>LAD</td>\n",
       "      <td>NaN</td>\n",
       "      <td>3</td>\n",
       "      <td>141</td>\n",
       "      <td>NaN</td>\n",
       "      <td>76</td>\n",
       "      <td>61</td>\n",
       "      <td>...</td>\n",
       "      <td>NaN</td>\n",
       "      <td>0.900</td>\n",
       "      <td>Brooklyn Grays</td>\n",
       "      <td>Washington Park I</td>\n",
       "      <td>NaN</td>\n",
       "      <td>100</td>\n",
       "      <td>100</td>\n",
       "      <td>BRO</td>\n",
       "      <td>BR3</td>\n",
       "      <td>BR3</td>\n",
       "    </tr>\n",
       "    <tr>\n",
       "      <th>190</th>\n",
       "      <td>1887</td>\n",
       "      <td>AA</td>\n",
       "      <td>BR3</td>\n",
       "      <td>LAD</td>\n",
       "      <td>NaN</td>\n",
       "      <td>6</td>\n",
       "      <td>138</td>\n",
       "      <td>NaN</td>\n",
       "      <td>60</td>\n",
       "      <td>74</td>\n",
       "      <td>...</td>\n",
       "      <td>NaN</td>\n",
       "      <td>0.900</td>\n",
       "      <td>Brooklyn Grays</td>\n",
       "      <td>Washington Park I</td>\n",
       "      <td>NaN</td>\n",
       "      <td>101</td>\n",
       "      <td>100</td>\n",
       "      <td>BRO</td>\n",
       "      <td>BR3</td>\n",
       "      <td>BR3</td>\n",
       "    </tr>\n",
       "    <tr>\n",
       "      <th>206</th>\n",
       "      <td>1888</td>\n",
       "      <td>AA</td>\n",
       "      <td>BR3</td>\n",
       "      <td>LAD</td>\n",
       "      <td>NaN</td>\n",
       "      <td>2</td>\n",
       "      <td>143</td>\n",
       "      <td>NaN</td>\n",
       "      <td>88</td>\n",
       "      <td>52</td>\n",
       "      <td>...</td>\n",
       "      <td>NaN</td>\n",
       "      <td>0.910</td>\n",
       "      <td>Brooklyn Bridegrooms</td>\n",
       "      <td>Washington Park I</td>\n",
       "      <td>NaN</td>\n",
       "      <td>101</td>\n",
       "      <td>100</td>\n",
       "      <td>BRO</td>\n",
       "      <td>BR3</td>\n",
       "      <td>BR3</td>\n",
       "    </tr>\n",
       "    <tr>\n",
       "      <th>...</th>\n",
       "      <td>...</td>\n",
       "      <td>...</td>\n",
       "      <td>...</td>\n",
       "      <td>...</td>\n",
       "      <td>...</td>\n",
       "      <td>...</td>\n",
       "      <td>...</td>\n",
       "      <td>...</td>\n",
       "      <td>...</td>\n",
       "      <td>...</td>\n",
       "      <td>...</td>\n",
       "      <td>...</td>\n",
       "      <td>...</td>\n",
       "      <td>...</td>\n",
       "      <td>...</td>\n",
       "      <td>...</td>\n",
       "      <td>...</td>\n",
       "      <td>...</td>\n",
       "      <td>...</td>\n",
       "      <td>...</td>\n",
       "      <td>...</td>\n",
       "    </tr>\n",
       "    <tr>\n",
       "      <th>2669</th>\n",
       "      <td>2011</td>\n",
       "      <td>NL</td>\n",
       "      <td>LAN</td>\n",
       "      <td>LAD</td>\n",
       "      <td>W</td>\n",
       "      <td>3</td>\n",
       "      <td>161</td>\n",
       "      <td>81.0</td>\n",
       "      <td>82</td>\n",
       "      <td>79</td>\n",
       "      <td>...</td>\n",
       "      <td>121.0</td>\n",
       "      <td>0.986</td>\n",
       "      <td>Los Angeles Dodgers</td>\n",
       "      <td>Dodger Stadium</td>\n",
       "      <td>2935139.0</td>\n",
       "      <td>98</td>\n",
       "      <td>98</td>\n",
       "      <td>LAD</td>\n",
       "      <td>LAN</td>\n",
       "      <td>LAN</td>\n",
       "    </tr>\n",
       "    <tr>\n",
       "      <th>2698</th>\n",
       "      <td>2012</td>\n",
       "      <td>NL</td>\n",
       "      <td>LAN</td>\n",
       "      <td>LAD</td>\n",
       "      <td>W</td>\n",
       "      <td>2</td>\n",
       "      <td>162</td>\n",
       "      <td>81.0</td>\n",
       "      <td>86</td>\n",
       "      <td>76</td>\n",
       "      <td>...</td>\n",
       "      <td>138.0</td>\n",
       "      <td>0.984</td>\n",
       "      <td>Los Angeles Dodgers</td>\n",
       "      <td>Dodger Stadium</td>\n",
       "      <td>3324246.0</td>\n",
       "      <td>96</td>\n",
       "      <td>96</td>\n",
       "      <td>LAD</td>\n",
       "      <td>LAN</td>\n",
       "      <td>LAN</td>\n",
       "    </tr>\n",
       "    <tr>\n",
       "      <th>2728</th>\n",
       "      <td>2013</td>\n",
       "      <td>NL</td>\n",
       "      <td>LAN</td>\n",
       "      <td>LAD</td>\n",
       "      <td>W</td>\n",
       "      <td>1</td>\n",
       "      <td>162</td>\n",
       "      <td>81.0</td>\n",
       "      <td>92</td>\n",
       "      <td>70</td>\n",
       "      <td>...</td>\n",
       "      <td>160.0</td>\n",
       "      <td>0.982</td>\n",
       "      <td>Los Angeles Dodgers</td>\n",
       "      <td>Dodger Stadium</td>\n",
       "      <td>3743527.0</td>\n",
       "      <td>95</td>\n",
       "      <td>95</td>\n",
       "      <td>LAD</td>\n",
       "      <td>LAN</td>\n",
       "      <td>LAN</td>\n",
       "    </tr>\n",
       "    <tr>\n",
       "      <th>2758</th>\n",
       "      <td>2014</td>\n",
       "      <td>NL</td>\n",
       "      <td>LAN</td>\n",
       "      <td>LAD</td>\n",
       "      <td>W</td>\n",
       "      <td>1</td>\n",
       "      <td>162</td>\n",
       "      <td>81.0</td>\n",
       "      <td>94</td>\n",
       "      <td>68</td>\n",
       "      <td>...</td>\n",
       "      <td>145.0</td>\n",
       "      <td>0.983</td>\n",
       "      <td>Los Angeles Dodgers</td>\n",
       "      <td>Dodger Stadium</td>\n",
       "      <td>3782337.0</td>\n",
       "      <td>96</td>\n",
       "      <td>95</td>\n",
       "      <td>LAD</td>\n",
       "      <td>LAN</td>\n",
       "      <td>LAN</td>\n",
       "    </tr>\n",
       "    <tr>\n",
       "      <th>2800</th>\n",
       "      <td>2015</td>\n",
       "      <td>NL</td>\n",
       "      <td>LAN</td>\n",
       "      <td>LAD</td>\n",
       "      <td>W</td>\n",
       "      <td>1</td>\n",
       "      <td>162</td>\n",
       "      <td>81.0</td>\n",
       "      <td>92</td>\n",
       "      <td>70</td>\n",
       "      <td>...</td>\n",
       "      <td>133.0</td>\n",
       "      <td>0.988</td>\n",
       "      <td>Los Angeles Dodgers</td>\n",
       "      <td>Dodger Stadium</td>\n",
       "      <td>3764815.0</td>\n",
       "      <td>101</td>\n",
       "      <td>98</td>\n",
       "      <td>LAD</td>\n",
       "      <td>LAN</td>\n",
       "      <td>LAN</td>\n",
       "    </tr>\n",
       "  </tbody>\n",
       "</table>\n",
       "<p>132 rows × 48 columns</p>\n",
       "</div>"
      ],
      "text/plain": [
       "      yearID lgID teamID franchID divID  Rank    G  Ghome   W   L  ...     DP  \\\n",
       "128     1884   AA    BR3      LAD   NaN     9  109    NaN  40  64  ...    NaN   \n",
       "159     1885   AA    BR3      LAD   NaN     5  112    NaN  53  59  ...    NaN   \n",
       "174     1886   AA    BR3      LAD   NaN     3  141    NaN  76  61  ...    NaN   \n",
       "190     1887   AA    BR3      LAD   NaN     6  138    NaN  60  74  ...    NaN   \n",
       "206     1888   AA    BR3      LAD   NaN     2  143    NaN  88  52  ...    NaN   \n",
       "...      ...  ...    ...      ...   ...   ...  ...    ...  ..  ..  ...    ...   \n",
       "2669    2011   NL    LAN      LAD     W     3  161   81.0  82  79  ...  121.0   \n",
       "2698    2012   NL    LAN      LAD     W     2  162   81.0  86  76  ...  138.0   \n",
       "2728    2013   NL    LAN      LAD     W     1  162   81.0  92  70  ...  160.0   \n",
       "2758    2014   NL    LAN      LAD     W     1  162   81.0  94  68  ...  145.0   \n",
       "2800    2015   NL    LAN      LAD     W     1  162   81.0  92  70  ...  133.0   \n",
       "\n",
       "         FP                  name               park  attendance  BPF  PPF  \\\n",
       "128   0.880    Brooklyn Atlantics  Washington Park I         NaN  100  102   \n",
       "159   0.910        Brooklyn Grays  Washington Park I         NaN  100  102   \n",
       "174   0.900        Brooklyn Grays  Washington Park I         NaN  100  100   \n",
       "190   0.900        Brooklyn Grays  Washington Park I         NaN  101  100   \n",
       "206   0.910  Brooklyn Bridegrooms  Washington Park I         NaN  101  100   \n",
       "...     ...                   ...                ...         ...  ...  ...   \n",
       "2669  0.986   Los Angeles Dodgers     Dodger Stadium   2935139.0   98   98   \n",
       "2698  0.984   Los Angeles Dodgers     Dodger Stadium   3324246.0   96   96   \n",
       "2728  0.982   Los Angeles Dodgers     Dodger Stadium   3743527.0   95   95   \n",
       "2758  0.983   Los Angeles Dodgers     Dodger Stadium   3782337.0   96   95   \n",
       "2800  0.988   Los Angeles Dodgers     Dodger Stadium   3764815.0  101   98   \n",
       "\n",
       "      teamIDBR  teamIDlahman45  teamIDretro  \n",
       "128        BRO             BR3          BR3  \n",
       "159        BRO             BR3          BR3  \n",
       "174        BRO             BR3          BR3  \n",
       "190        BRO             BR3          BR3  \n",
       "206        BRO             BR3          BR3  \n",
       "...        ...             ...          ...  \n",
       "2669       LAD             LAN          LAN  \n",
       "2698       LAD             LAN          LAN  \n",
       "2728       LAD             LAN          LAN  \n",
       "2758       LAD             LAN          LAN  \n",
       "2800       LAD             LAN          LAN  \n",
       "\n",
       "[132 rows x 48 columns]"
      ]
     },
     "execution_count": 3,
     "metadata": {},
     "output_type": "execute_result"
    }
   ],
   "source": [
    "dodgers = baseball_teams[baseball_teams['franchID'] == 'LAD']\n",
    "dodgers"
   ]
  },
  {
   "cell_type": "markdown",
   "id": "08083e92",
   "metadata": {},
   "source": [
    "### Different Team Names"
   ]
  },
  {
   "cell_type": "markdown",
   "id": "325afd72",
   "metadata": {},
   "source": [
    "If you look closely at the column labeled 'name', you can see that there are several names that the currently Los Angeles Dodgers team has had over the years. What are all the iterations of the LAD's franchise's team name from their first appearance as a team in 1884 to the most current year in this data, 2015?"
   ]
  },
  {
   "cell_type": "code",
   "execution_count": 4,
   "id": "0aa7002a",
   "metadata": {},
   "outputs": [
    {
     "data": {
      "text/plain": [
       "name\n",
       "Brooklyn Atlantics       1\n",
       "Brooklyn Bridegrooms     6\n",
       "Brooklyn Dodgers        28\n",
       "Brooklyn Grays           3\n",
       "Brooklyn Grooms          5\n",
       "Brooklyn Robins         18\n",
       "Brooklyn Superbas       13\n",
       "Los Angeles Dodgers     58\n",
       "Name: yearID, dtype: int64"
      ]
     },
     "execution_count": 4,
     "metadata": {},
     "output_type": "execute_result"
    }
   ],
   "source": [
    "dodgers.groupby('name')['yearID'].count()"
   ]
  },
  {
   "cell_type": "markdown",
   "id": "c0e4674f",
   "metadata": {},
   "source": [
    "The LAD franchise has had 8 different names throught franchise history. Of those 8 different names, the name they had for the shortest amount of time was the Brooklyn Atlantics. They had this team name for only 1 year. The name they have had the longest is the Los Angeles Dodgers. This is the current team name and they have had this team name for 58 years as of 2015. \n",
    "\n",
    "With baseball teams, the first part of the team name will always be the location of the team. Based upon that, we can see that the LAD franchise was a Brooklyn team for 74 years and have been a Los Angeles team for 58 years (determined by adding the number of years for teams that have Brooklyn in the name and adding the number of years for teams that have Los Angeles in the name). \n",
    "\n",
    "The above data does not show the order in which the LAD franchise had the team names and instead shows them in alphabetical order by team name. It would be interesting to learn the order of team names that this franchise has held. We can do this by finding out what years each tame name was active. \n",
    "\n",
    "The best way to determine this is by setting the index of the dodgers Data Frame to 'name' and then looking at the 'yearID' to determine which years there is information for those team names. "
   ]
  },
  {
   "cell_type": "code",
   "execution_count": 5,
   "id": "d6af85bc",
   "metadata": {},
   "outputs": [],
   "source": [
    "dodgers_names = dodgers.set_index('name')"
   ]
  },
  {
   "cell_type": "markdown",
   "id": "2c44db6f",
   "metadata": {},
   "source": [
    "__Brooklyn Atlantics__"
   ]
  },
  {
   "cell_type": "code",
   "execution_count": 6,
   "id": "cb6965e8",
   "metadata": {},
   "outputs": [
    {
     "name": "stdout",
     "output_type": "stream",
     "text": [
      "1884\n"
     ]
    }
   ],
   "source": [
    "print(dodgers_names.loc['Brooklyn Atlantics']['yearID'])"
   ]
  },
  {
   "cell_type": "markdown",
   "id": "20e2412e",
   "metadata": {},
   "source": [
    "The only year that the LAD franchise had Brooklyn Atlantics as a team name was _1884_. This is the first year that the franchise was active. "
   ]
  },
  {
   "cell_type": "markdown",
   "id": "12200dd3",
   "metadata": {},
   "source": [
    "__Brooklyn Bridegrooms__"
   ]
  },
  {
   "cell_type": "code",
   "execution_count": 7,
   "id": "1f475816",
   "metadata": {},
   "outputs": [
    {
     "name": "stdout",
     "output_type": "stream",
     "text": [
      "name\n",
      "Brooklyn Bridegrooms    1888\n",
      "Brooklyn Bridegrooms    1889\n",
      "Brooklyn Bridegrooms    1890\n",
      "Brooklyn Bridegrooms    1896\n",
      "Brooklyn Bridegrooms    1897\n",
      "Brooklyn Bridegrooms    1898\n",
      "Name: yearID, dtype: int64\n"
     ]
    }
   ],
   "source": [
    "print(dodgers_names.loc['Brooklyn Bridegrooms']['yearID'])"
   ]
  },
  {
   "cell_type": "markdown",
   "id": "bab3dbfe",
   "metadata": {},
   "source": [
    "The years that the LAD franchise team was named the Brooklyn Bridegrooms was from _1888-1890_ and then again from _1896-1898_."
   ]
  },
  {
   "cell_type": "markdown",
   "id": "3ecece30",
   "metadata": {},
   "source": [
    "__Brooklyn Dodgers__"
   ]
  },
  {
   "cell_type": "code",
   "execution_count": 8,
   "id": "8a8c44b2",
   "metadata": {},
   "outputs": [
    {
     "name": "stdout",
     "output_type": "stream",
     "text": [
      "name\n",
      "Brooklyn Dodgers    1911\n",
      "Brooklyn Dodgers    1912\n",
      "Brooklyn Dodgers    1932\n",
      "Brooklyn Dodgers    1933\n",
      "Brooklyn Dodgers    1934\n",
      "Brooklyn Dodgers    1935\n",
      "Brooklyn Dodgers    1936\n",
      "Brooklyn Dodgers    1937\n",
      "Brooklyn Dodgers    1938\n",
      "Brooklyn Dodgers    1939\n",
      "Brooklyn Dodgers    1940\n",
      "Brooklyn Dodgers    1941\n",
      "Brooklyn Dodgers    1942\n",
      "Brooklyn Dodgers    1943\n",
      "Brooklyn Dodgers    1944\n",
      "Brooklyn Dodgers    1945\n",
      "Brooklyn Dodgers    1946\n",
      "Brooklyn Dodgers    1947\n",
      "Brooklyn Dodgers    1948\n",
      "Brooklyn Dodgers    1949\n",
      "Brooklyn Dodgers    1950\n",
      "Brooklyn Dodgers    1951\n",
      "Brooklyn Dodgers    1952\n",
      "Brooklyn Dodgers    1953\n",
      "Brooklyn Dodgers    1954\n",
      "Brooklyn Dodgers    1955\n",
      "Brooklyn Dodgers    1956\n",
      "Brooklyn Dodgers    1957\n",
      "Name: yearID, dtype: int64\n"
     ]
    }
   ],
   "source": [
    "print(dodgers_names.loc['Brooklyn Dodgers']['yearID'])"
   ]
  },
  {
   "cell_type": "markdown",
   "id": "e3bf7952",
   "metadata": {},
   "source": [
    "The LAD franchise team was named the Brooklyn Dodgers from _1911-1912_, and from _1932-1957_."
   ]
  },
  {
   "cell_type": "markdown",
   "id": "a8976e9b",
   "metadata": {},
   "source": [
    "__Brooklyn Grays__"
   ]
  },
  {
   "cell_type": "code",
   "execution_count": 9,
   "id": "86d4cc29",
   "metadata": {},
   "outputs": [
    {
     "name": "stdout",
     "output_type": "stream",
     "text": [
      "name\n",
      "Brooklyn Grays    1885\n",
      "Brooklyn Grays    1886\n",
      "Brooklyn Grays    1887\n",
      "Name: yearID, dtype: int64\n"
     ]
    }
   ],
   "source": [
    "print(dodgers_names.loc['Brooklyn Grays']['yearID'])"
   ]
  },
  {
   "cell_type": "markdown",
   "id": "2fea5aca",
   "metadata": {},
   "source": [
    "The LAD franchise team was named the Brooklyn Grays from _1885-1887_."
   ]
  },
  {
   "cell_type": "markdown",
   "id": "b102e899",
   "metadata": {},
   "source": [
    "__Brooklyn Grooms__"
   ]
  },
  {
   "cell_type": "code",
   "execution_count": 10,
   "id": "70c937e1",
   "metadata": {},
   "outputs": [
    {
     "name": "stdout",
     "output_type": "stream",
     "text": [
      "name\n",
      "Brooklyn Grooms    1891\n",
      "Brooklyn Grooms    1892\n",
      "Brooklyn Grooms    1893\n",
      "Brooklyn Grooms    1894\n",
      "Brooklyn Grooms    1895\n",
      "Name: yearID, dtype: int64\n"
     ]
    }
   ],
   "source": [
    "print(dodgers_names.loc['Brooklyn Grooms']['yearID'])"
   ]
  },
  {
   "cell_type": "markdown",
   "id": "21d15064",
   "metadata": {},
   "source": [
    "The LAD franchise team was named the Brooklyn Grooms from _1891-1895_."
   ]
  },
  {
   "cell_type": "markdown",
   "id": "b6cc3fd9",
   "metadata": {},
   "source": [
    "__Brooklyn Robins__"
   ]
  },
  {
   "cell_type": "code",
   "execution_count": 11,
   "id": "62c3e803",
   "metadata": {},
   "outputs": [
    {
     "name": "stdout",
     "output_type": "stream",
     "text": [
      "name\n",
      "Brooklyn Robins    1914\n",
      "Brooklyn Robins    1915\n",
      "Brooklyn Robins    1916\n",
      "Brooklyn Robins    1917\n",
      "Brooklyn Robins    1918\n",
      "Brooklyn Robins    1919\n",
      "Brooklyn Robins    1920\n",
      "Brooklyn Robins    1921\n",
      "Brooklyn Robins    1922\n",
      "Brooklyn Robins    1923\n",
      "Brooklyn Robins    1924\n",
      "Brooklyn Robins    1925\n",
      "Brooklyn Robins    1926\n",
      "Brooklyn Robins    1927\n",
      "Brooklyn Robins    1928\n",
      "Brooklyn Robins    1929\n",
      "Brooklyn Robins    1930\n",
      "Brooklyn Robins    1931\n",
      "Name: yearID, dtype: int64\n"
     ]
    }
   ],
   "source": [
    "print(dodgers_names.loc['Brooklyn Robins']['yearID'])"
   ]
  },
  {
   "cell_type": "markdown",
   "id": "4eb76396",
   "metadata": {},
   "source": [
    "The LAD franchise team name was the Brooklyn Robins from _1914-1931_. "
   ]
  },
  {
   "cell_type": "markdown",
   "id": "5d9e8d7f",
   "metadata": {},
   "source": [
    "__Brooklyn Superbas__"
   ]
  },
  {
   "cell_type": "code",
   "execution_count": 12,
   "id": "a5577dbc",
   "metadata": {},
   "outputs": [
    {
     "name": "stdout",
     "output_type": "stream",
     "text": [
      "name\n",
      "Brooklyn Superbas    1899\n",
      "Brooklyn Superbas    1900\n",
      "Brooklyn Superbas    1901\n",
      "Brooklyn Superbas    1902\n",
      "Brooklyn Superbas    1903\n",
      "Brooklyn Superbas    1904\n",
      "Brooklyn Superbas    1905\n",
      "Brooklyn Superbas    1906\n",
      "Brooklyn Superbas    1907\n",
      "Brooklyn Superbas    1908\n",
      "Brooklyn Superbas    1909\n",
      "Brooklyn Superbas    1910\n",
      "Brooklyn Superbas    1913\n",
      "Name: yearID, dtype: int64\n"
     ]
    }
   ],
   "source": [
    "print(dodgers_names.loc['Brooklyn Superbas']['yearID'])"
   ]
  },
  {
   "cell_type": "markdown",
   "id": "6ec83fb6",
   "metadata": {},
   "source": [
    "The LAD franchise team name was the Brooklyn Superbas from _1899-1910_ and then again in _1913_. "
   ]
  },
  {
   "cell_type": "markdown",
   "id": "17e7f38e",
   "metadata": {},
   "source": [
    "__Los Angeles Dodgers__"
   ]
  },
  {
   "cell_type": "code",
   "execution_count": 13,
   "id": "66439e8d",
   "metadata": {},
   "outputs": [
    {
     "name": "stdout",
     "output_type": "stream",
     "text": [
      "name\n",
      "Los Angeles Dodgers    1958\n",
      "Los Angeles Dodgers    1959\n",
      "Los Angeles Dodgers    1960\n",
      "Los Angeles Dodgers    1961\n",
      "Los Angeles Dodgers    1962\n",
      "Los Angeles Dodgers    1963\n",
      "Los Angeles Dodgers    1964\n",
      "Los Angeles Dodgers    1965\n",
      "Los Angeles Dodgers    1966\n",
      "Los Angeles Dodgers    1967\n",
      "Los Angeles Dodgers    1968\n",
      "Los Angeles Dodgers    1969\n",
      "Los Angeles Dodgers    1970\n",
      "Los Angeles Dodgers    1971\n",
      "Los Angeles Dodgers    1972\n",
      "Los Angeles Dodgers    1973\n",
      "Los Angeles Dodgers    1974\n",
      "Los Angeles Dodgers    1975\n",
      "Los Angeles Dodgers    1976\n",
      "Los Angeles Dodgers    1977\n",
      "Los Angeles Dodgers    1978\n",
      "Los Angeles Dodgers    1979\n",
      "Los Angeles Dodgers    1980\n",
      "Los Angeles Dodgers    1981\n",
      "Los Angeles Dodgers    1982\n",
      "Los Angeles Dodgers    1983\n",
      "Los Angeles Dodgers    1984\n",
      "Los Angeles Dodgers    1985\n",
      "Los Angeles Dodgers    1986\n",
      "Los Angeles Dodgers    1987\n",
      "Los Angeles Dodgers    1988\n",
      "Los Angeles Dodgers    1989\n",
      "Los Angeles Dodgers    1990\n",
      "Los Angeles Dodgers    1991\n",
      "Los Angeles Dodgers    1992\n",
      "Los Angeles Dodgers    1993\n",
      "Los Angeles Dodgers    1994\n",
      "Los Angeles Dodgers    1995\n",
      "Los Angeles Dodgers    1996\n",
      "Los Angeles Dodgers    1997\n",
      "Los Angeles Dodgers    1998\n",
      "Los Angeles Dodgers    1999\n",
      "Los Angeles Dodgers    2000\n",
      "Los Angeles Dodgers    2001\n",
      "Los Angeles Dodgers    2002\n",
      "Los Angeles Dodgers    2003\n",
      "Los Angeles Dodgers    2004\n",
      "Los Angeles Dodgers    2005\n",
      "Los Angeles Dodgers    2006\n",
      "Los Angeles Dodgers    2007\n",
      "Los Angeles Dodgers    2008\n",
      "Los Angeles Dodgers    2009\n",
      "Los Angeles Dodgers    2010\n",
      "Los Angeles Dodgers    2011\n",
      "Los Angeles Dodgers    2012\n",
      "Los Angeles Dodgers    2013\n",
      "Los Angeles Dodgers    2014\n",
      "Los Angeles Dodgers    2015\n",
      "Name: yearID, dtype: int64\n"
     ]
    }
   ],
   "source": [
    "print(dodgers_names.loc['Los Angeles Dodgers']['yearID'])"
   ]
  },
  {
   "cell_type": "markdown",
   "id": "ae6493ac",
   "metadata": {},
   "source": [
    "The LAD franchise team name was the Los Angeles Dodgers from _1958-current(2015)_. "
   ]
  },
  {
   "cell_type": "markdown",
   "id": "6f9804ae",
   "metadata": {},
   "source": [
    "Now that we have reviewed all of the years each of the team names were in effect, we can determine the order of team names for the franchise to be: \n",
    "\n",
    "Brooklyn Atlantics, Brooklyn Grays, Brooklyn Bridegrooms, Brooklyn Grooms, back to Brooklyn Bridegrooms, Brooklyn Superbas, Brooklyn Dodgers, back to Brooklyn Superbas, Brooklyn Robins, back to Brooklyn Dodgers, and, finally, Los Angeles Dodgers. "
   ]
  },
  {
   "cell_type": "markdown",
   "id": "ed90c406",
   "metadata": {},
   "source": [
    "##### Ranking the Dodgers Team"
   ]
  },
  {
   "cell_type": "markdown",
   "id": "408f73aa",
   "metadata": {},
   "source": [
    "As mentioned before, although the LAD has had several names during it's run as a team, they are still considered the same team from 1884 to current. An important part of baseball statistics is looking at how the team performs over the years. One way to study this is by looking at the 'Rank' column from the data set. This column tracks the overall ranking of a baseball team for the entire season in comparison to all other teams in the league each year. \n",
    "\n",
    "Since the Dodgers have been a team since 1884, this data can be a bit noisy if we were to look at it from each individual year. A better way to look at this data would be to look at the overall average from each decade to see if there is an overall trend.  \n",
    "We can do this by creating a new Data Frame of each decade and the Average rank for each decade. "
   ]
  },
  {
   "cell_type": "code",
   "execution_count": 14,
   "id": "0f6ecf9c",
   "metadata": {},
   "outputs": [
    {
     "data": {
      "text/html": [
       "<div>\n",
       "<style scoped>\n",
       "    .dataframe tbody tr th:only-of-type {\n",
       "        vertical-align: middle;\n",
       "    }\n",
       "\n",
       "    .dataframe tbody tr th {\n",
       "        vertical-align: top;\n",
       "    }\n",
       "\n",
       "    .dataframe thead th {\n",
       "        text-align: right;\n",
       "    }\n",
       "</style>\n",
       "<table border=\"1\" class=\"dataframe\">\n",
       "  <thead>\n",
       "    <tr style=\"text-align: right;\">\n",
       "      <th></th>\n",
       "      <th>Decade</th>\n",
       "      <th>Average Rank</th>\n",
       "    </tr>\n",
       "  </thead>\n",
       "  <tbody>\n",
       "    <tr>\n",
       "      <th>0</th>\n",
       "      <td>1880's</td>\n",
       "      <td>4.333333</td>\n",
       "    </tr>\n",
       "    <tr>\n",
       "      <th>1</th>\n",
       "      <td>1890's</td>\n",
       "      <td>5.500000</td>\n",
       "    </tr>\n",
       "    <tr>\n",
       "      <th>2</th>\n",
       "      <td>1900's</td>\n",
       "      <td>4.800000</td>\n",
       "    </tr>\n",
       "    <tr>\n",
       "      <th>3</th>\n",
       "      <td>1910's</td>\n",
       "      <td>5.200000</td>\n",
       "    </tr>\n",
       "    <tr>\n",
       "      <th>4</th>\n",
       "      <td>1920's</td>\n",
       "      <td>5.000000</td>\n",
       "    </tr>\n",
       "    <tr>\n",
       "      <th>5</th>\n",
       "      <td>1930's</td>\n",
       "      <td>5.100000</td>\n",
       "    </tr>\n",
       "    <tr>\n",
       "      <th>6</th>\n",
       "      <td>1940's</td>\n",
       "      <td>2.500000</td>\n",
       "    </tr>\n",
       "    <tr>\n",
       "      <th>7</th>\n",
       "      <td>1950's</td>\n",
       "      <td>2.100000</td>\n",
       "    </tr>\n",
       "    <tr>\n",
       "      <th>8</th>\n",
       "      <td>1960's</td>\n",
       "      <td>3.600000</td>\n",
       "    </tr>\n",
       "    <tr>\n",
       "      <th>9</th>\n",
       "      <td>1970's</td>\n",
       "      <td>1.800000</td>\n",
       "    </tr>\n",
       "    <tr>\n",
       "      <th>10</th>\n",
       "      <td>1980's</td>\n",
       "      <td>2.600000</td>\n",
       "    </tr>\n",
       "    <tr>\n",
       "      <th>11</th>\n",
       "      <td>1990's</td>\n",
       "      <td>2.600000</td>\n",
       "    </tr>\n",
       "    <tr>\n",
       "      <th>12</th>\n",
       "      <td>2000's</td>\n",
       "      <td>2.300000</td>\n",
       "    </tr>\n",
       "    <tr>\n",
       "      <th>13</th>\n",
       "      <td>2010's</td>\n",
       "      <td>2.000000</td>\n",
       "    </tr>\n",
       "  </tbody>\n",
       "</table>\n",
       "</div>"
      ],
      "text/plain": [
       "    Decade  Average Rank\n",
       "0   1880's      4.333333\n",
       "1   1890's      5.500000\n",
       "2   1900's      4.800000\n",
       "3   1910's      5.200000\n",
       "4   1920's      5.000000\n",
       "5   1930's      5.100000\n",
       "6   1940's      2.500000\n",
       "7   1950's      2.100000\n",
       "8   1960's      3.600000\n",
       "9   1970's      1.800000\n",
       "10  1980's      2.600000\n",
       "11  1990's      2.600000\n",
       "12  2000's      2.300000\n",
       "13  2010's      2.000000"
      ]
     },
     "execution_count": 14,
     "metadata": {},
     "output_type": "execute_result"
    }
   ],
   "source": [
    "#Getting the average rank per decade of the team\n",
    "d1880s = dodgers[(dodgers['yearID'] >= 1884) & (dodgers['yearID'] <=1889)]['Rank'].mean()\n",
    "d1890s = dodgers[(dodgers['yearID'] >= 1890) & (dodgers['yearID'] <=1899)]['Rank'].mean()\n",
    "d1900s = dodgers[(dodgers['yearID'] >= 1900) & (dodgers['yearID'] <=1909)]['Rank'].mean()\n",
    "d1910s = dodgers[(dodgers['yearID'] >= 1910) & (dodgers['yearID'] <=1919)]['Rank'].mean()\n",
    "d1920s = dodgers[(dodgers['yearID'] >= 1920) & (dodgers['yearID'] <=1929)]['Rank'].mean()\n",
    "d1930s = dodgers[(dodgers['yearID'] >= 1930) & (dodgers['yearID'] <=1939)]['Rank'].mean()\n",
    "d1940s = dodgers[(dodgers['yearID'] >= 1940) & (dodgers['yearID'] <=1949)]['Rank'].mean()\n",
    "d1950s = dodgers[(dodgers['yearID'] >= 1950) & (dodgers['yearID'] <=1959)]['Rank'].mean()\n",
    "d1960s = dodgers[(dodgers['yearID'] >= 1960) & (dodgers['yearID'] <=1969)]['Rank'].mean()\n",
    "d1970s = dodgers[(dodgers['yearID'] >= 1970) & (dodgers['yearID'] <=1979)]['Rank'].mean()\n",
    "d1980s = dodgers[(dodgers['yearID'] >= 1980) & (dodgers['yearID'] <=1989)]['Rank'].mean()\n",
    "d1990s = dodgers[(dodgers['yearID'] >= 1990) & (dodgers['yearID'] <=1999)]['Rank'].mean()\n",
    "d2000s = dodgers[(dodgers['yearID'] >= 2000) & (dodgers['yearID'] <=2009)]['Rank'].mean()\n",
    "d2010s = dodgers[(dodgers['yearID'] >= 2010) & (dodgers['yearID'] <=2015)]['Rank'].mean()\n",
    "\n",
    "#Creating dictionary to be later converted to pandas series \n",
    "Decades = [\"1880's\", \"1890's\", \"1900's\", \"1910's\", \"1920's\", \"1930's\", \"1940's\", \"1950's\", \"1960's\", \"1970's\", \"1980's\", \"1990's\", \"2000's\", \"2010's\"]\n",
    "Avg_Rank = [d1880s, d1890s, d1900s, d1910s, d1920s, d1930s, d1940s, d1950s, d1960s, d1970s, d1980s, d1990s, d2000s, d2010s]\n",
    "decades_dict = {'Decade':Decades, 'Average Rank':Avg_Rank}\n",
    "\n",
    "#Creating pandas Data Frame\n",
    "decades_rank = pd.DataFrame(decades_dict)\n",
    "decades_rank"
   ]
  },
  {
   "cell_type": "markdown",
   "id": "18366931",
   "metadata": {},
   "source": [
    "We now have our data frame of the average rank over the decades that the Dodgers were an active baseball franchise. This data isn't as interesting in a table, so let's go ahead and plot it so we can track the trend of this team's average rank."
   ]
  },
  {
   "cell_type": "code",
   "execution_count": 15,
   "id": "53117a92",
   "metadata": {},
   "outputs": [
    {
     "data": {
      "image/png": "[encoded data removed]",
      "text/plain": [
       "<Figure size 432x288 with 1 Axes>"
      ]
     },
     "metadata": {
      "needs_background": "light"
     },
     "output_type": "display_data"
    }
   ],
   "source": [
    "a = decades_rank['Decade']\n",
    "b = decades_rank['Average Rank']\n",
    "plt.plot(x,y)\n",
    "plt.xticks(rotation=45)\n",
    "plt.title(\"Average Rank of LAD Franchise\")\n",
    "plt.xlabel(\"Decade\")\n",
    "plt.ylabel(\"Average Rank\")\n",
    "plt.gca().invert_yaxis()\n",
    "plt.show()"
   ]
  },
  {
   "cell_type": "markdown",
   "id": "00ef81e7",
   "metadata": {},
   "source": [
    "Here I have inverted the y axis so that the lower the rank, the higher the data point will be plotted on the graph. This makes the graph easier to read as a lower rank means that the team is doing better. \n",
    "\n",
    "\n",
    "From this plot, we can see some interesting trends. From the start, the dodgers started out with a rank of around 4. Into the 1890's, they did worse then the previous decade. There is a big jump in average rank from the 1930's to the 1940's ands 1950's. From there, there is a slump in average rank in the 1960's but they do recover this loss in rank. Currently, the Los Angeles Dodgers are on a potential uphill trajectory for their rank. \n",
    "\n",
    "One thing to note is that this plot and data doesn't necessarily show how well the team is doing overall. Over the years of baseball being a professional sport, there are different number of teams throughout the years. Some teams may be added and some may end up no longer being a professional team. To really determine how well the LAD franchise is doing compared to the entire league, we need to look at the proportion of this team's rank to the total number of teams in the league. "
   ]
  },
  {
   "cell_type": "markdown",
   "id": "d2b685f9",
   "metadata": {},
   "source": [
    "### Comparing Dodgers Rank to the Total Number of Teams"
   ]
  },
  {
   "cell_type": "markdown",
   "id": "0469760c",
   "metadata": {},
   "source": [
    "First, let's look at the number of teams the baseball league has each year from our original \"Teams\" data set. "
   ]
  },
  {
   "cell_type": "code",
   "execution_count": 16,
   "id": "fc158d84",
   "metadata": {},
   "outputs": [
    {
     "data": {
      "text/plain": [
       "yearID\n",
       "1871     9\n",
       "1872    11\n",
       "1873     9\n",
       "1874     8\n",
       "1875    13\n",
       "        ..\n",
       "2011    30\n",
       "2012    30\n",
       "2013    30\n",
       "2014    30\n",
       "2015    30\n",
       "Name: franchID, Length: 145, dtype: int64"
      ]
     },
     "execution_count": 16,
     "metadata": {},
     "output_type": "execute_result"
    }
   ],
   "source": [
    "baseball_teams.groupby('yearID')['franchID'].count()"
   ]
  },
  {
   "cell_type": "markdown",
   "id": "4ff08d49",
   "metadata": {},
   "source": [
    "There are a couple things to note with this data frame. Again, this is a large data set spanning over 144 years, from 1871 to 2015. The Dodgers did not become a franchise in the league until 1884. We are only looking at a \"peek\" into the Data Series above, but based on this we can make a couple of assumptions. There are a lot more teams playing in the league in 2015 (30) then in 1871 (9). When you get to more modern years, we can see that the number of teams stays relatively stable at 30 teams. This can not be said at the first few years that baseball was a professional sport. From what we can see, even in the first 5 years of baseball being a sport, each year there was a different number of teams that were playing. This is why it is important for us to compare the Dodgers Average Rank to the total number of teams to really understand how well the Dodgers have done over the years. \n",
    "\n",
    "I am going to take some liberties and set some criteria that we can use to determine if the Dodgers were a good team per each decade. This is the criteria I will use to determine how well the team has done:\n",
    "\n",
    "__Top 25%:__ Top Tier Team\n",
    "\n",
    "__Middle 50%:__ Average Team\n",
    "\n",
    "__Bottom 25%:__ Bottom Team Team\n",
    "\n",
    "Similiar to what we did above to get the average rank of the Dodgers over the years by creating a new Data Frame, we need to do the same for the average number of teams present over the decades. We won't be using all of the data but only from 1884-2015 as this is the times that the Dodgers were an active team."
   ]
  },
  {
   "cell_type": "code",
   "execution_count": 17,
   "id": "705f74eb",
   "metadata": {},
   "outputs": [],
   "source": [
    "#Select out rows from the original Data Frame that equate to our decades of interest\n",
    "teams_1880s = baseball_teams[(baseball_teams['yearID'] >= 1884) & (baseball_teams['yearID'] <=1889)]\n",
    "teams_1890s = baseball_teams[(baseball_teams['yearID'] >= 1890) & (baseball_teams['yearID'] <=1899)]\n",
    "teams_1900s = baseball_teams[(baseball_teams['yearID'] >= 1900) & (baseball_teams['yearID'] <=1909)]\n",
    "teams_1910s = baseball_teams[(baseball_teams['yearID'] >= 1910) & (baseball_teams['yearID'] <=1919)]\n",
    "teams_1920s = baseball_teams[(baseball_teams['yearID'] >= 1920) & (baseball_teams['yearID'] <=1929)]\n",
    "teams_1930s = baseball_teams[(baseball_teams['yearID'] >= 1930) & (baseball_teams['yearID'] <=1939)]\n",
    "teams_1940s = baseball_teams[(baseball_teams['yearID'] >= 1940) & (baseball_teams['yearID'] <=1949)]\n",
    "teams_1950s = baseball_teams[(baseball_teams['yearID'] >= 1950) & (baseball_teams['yearID'] <=1959)]\n",
    "teams_1960s = baseball_teams[(baseball_teams['yearID'] >= 1960) & (baseball_teams['yearID'] <=1969)]\n",
    "teams_1970s = baseball_teams[(baseball_teams['yearID'] >= 1970) & (baseball_teams['yearID'] <=1979)]\n",
    "teams_1980s = baseball_teams[(baseball_teams['yearID'] >= 1980) & (baseball_teams['yearID'] <=1989)]\n",
    "teams_1990s = baseball_teams[(baseball_teams['yearID'] >= 1990) & (baseball_teams['yearID'] <=1999)]\n",
    "teams_2000s = baseball_teams[(baseball_teams['yearID'] >= 2000) & (baseball_teams['yearID'] <=2009)]\n",
    "teams_2010s = baseball_teams[(baseball_teams['yearID'] >= 2010) & (baseball_teams['yearID'] <=2015)]\n",
    "\n",
    "#Take the average number of teams per \n",
    "avg_teams_1880s = teams_1880s.groupby('yearID')['teamID'].count().mean()\n",
    "avg_teams_1890s = teams_1890s.groupby('yearID')['teamID'].count().mean()\n",
    "avg_teams_1900s = teams_1900s.groupby('yearID')['teamID'].count().mean()\n",
    "avg_teams_1910s = teams_1910s.groupby('yearID')['teamID'].count().mean()\n",
    "avg_teams_1920s = teams_1920s.groupby('yearID')['teamID'].count().mean()\n",
    "avg_teams_1930s = teams_1930s.groupby('yearID')['teamID'].count().mean()\n",
    "avg_teams_1940s = teams_1940s.groupby('yearID')['teamID'].count().mean()\n",
    "avg_teams_1950s = teams_1950s.groupby('yearID')['teamID'].count().mean()\n",
    "avg_teams_1960s = teams_1960s.groupby('yearID')['teamID'].count().mean()\n",
    "avg_teams_1970s = teams_1970s.groupby('yearID')['teamID'].count().mean()\n",
    "avg_teams_1980s = teams_1980s.groupby('yearID')['teamID'].count().mean()\n",
    "avg_teams_1990s = teams_1990s.groupby('yearID')['teamID'].count().mean()\n",
    "avg_teams_2000s = teams_2000s.groupby('yearID')['teamID'].count().mean()\n",
    "avg_teams_2010s = teams_2010s.groupby('yearID')['teamID'].count().mean()"
   ]
  },
  {
   "cell_type": "markdown",
   "id": "3e94b409",
   "metadata": {},
   "source": [
    "Now that we have the average number of teams per decades for our decades of interest in which the Dodgers had been an active team (1880s-2010s). We can now look to see how well the Dodgers did during those decades as a percentage. "
   ]
  },
  {
   "cell_type": "code",
   "execution_count": 18,
   "id": "3b445164",
   "metadata": {},
   "outputs": [
    {
     "name": "stdout",
     "output_type": "stream",
     "text": [
      "1880's: 0.23008849557522124\n",
      "1890's: 0.39855072463768115\n",
      "1900's: 0.3157894736842105\n",
      "1910's: 0.2954545454545454\n",
      "1920's: 0.3125\n",
      "1930's: 0.31875\n",
      "1940's: 0.15625\n",
      "1950's: 0.13125\n",
      "1960's: 0.18181818181818182\n",
      "1970's: 0.07317073170731707\n",
      "1980's: 0.1\n",
      "1990's: 0.09352517985611511\n",
      "2000's: 0.07666666666666666\n",
      "2010's: 0.06666666666666667\n"
     ]
    }
   ],
   "source": [
    "print(f\"1880's:\", d1880s/avg_teams_1880s)\n",
    "print(f\"1890's:\", d1890s/avg_teams_1890s)\n",
    "print(f\"1900's:\", d1900s/avg_teams_1900s)\n",
    "print(f\"1910's:\", d1910s/avg_teams_1910s)\n",
    "print(f\"1920's:\", d1920s/avg_teams_1920s)\n",
    "print(f\"1930's:\", d1930s/avg_teams_1930s)\n",
    "print(f\"1940's:\", d1940s/avg_teams_1940s)\n",
    "print(f\"1950's:\", d1950s/avg_teams_1950s)\n",
    "print(f\"1960's:\", d1960s/avg_teams_1960s)\n",
    "print(f\"1970's:\", d1970s/avg_teams_1970s)\n",
    "print(f\"1980's:\", d1980s/avg_teams_1980s)\n",
    "print(f\"1990's:\", d1990s/avg_teams_1990s)\n",
    "print(f\"2000's:\", d2000s/avg_teams_2000s)\n",
    "print(f\"2010's:\", d2010s/avg_teams_2010s)"
   ]
  },
  {
   "cell_type": "markdown",
   "id": "f8bfe77e",
   "metadata": {},
   "source": [
    "Above is the percentage as a proportion of the total number of teams. It is in decimal form which can be a little bit harder to understand. Some decades to note is that when the first few years, from 1884-1889, the team was in the top 23%. The best decade is in the 2010's in which the team is in the top 7%. \n",
    "\n",
    "To look at the trend over time, the best way to look at the data is through a plot. Similiar to our last plot, we will need to create our own data frame to be able to plot this data. "
   ]
  },
  {
   "cell_type": "code",
   "execution_count": 20,
   "id": "86ef33ef",
   "metadata": {},
   "outputs": [
    {
     "data": {
      "text/html": [
       "<div>\n",
       "<style scoped>\n",
       "    .dataframe tbody tr th:only-of-type {\n",
       "        vertical-align: middle;\n",
       "    }\n",
       "\n",
       "    .dataframe tbody tr th {\n",
       "        vertical-align: top;\n",
       "    }\n",
       "\n",
       "    .dataframe thead th {\n",
       "        text-align: right;\n",
       "    }\n",
       "</style>\n",
       "<table border=\"1\" class=\"dataframe\">\n",
       "  <thead>\n",
       "    <tr style=\"text-align: right;\">\n",
       "      <th></th>\n",
       "      <th>Decade</th>\n",
       "      <th>Team Proportion</th>\n",
       "    </tr>\n",
       "  </thead>\n",
       "  <tbody>\n",
       "    <tr>\n",
       "      <th>0</th>\n",
       "      <td>1880's</td>\n",
       "      <td>0.230088</td>\n",
       "    </tr>\n",
       "    <tr>\n",
       "      <th>1</th>\n",
       "      <td>1890's</td>\n",
       "      <td>0.398551</td>\n",
       "    </tr>\n",
       "    <tr>\n",
       "      <th>2</th>\n",
       "      <td>1900's</td>\n",
       "      <td>0.315789</td>\n",
       "    </tr>\n",
       "    <tr>\n",
       "      <th>3</th>\n",
       "      <td>1910's</td>\n",
       "      <td>0.295455</td>\n",
       "    </tr>\n",
       "    <tr>\n",
       "      <th>4</th>\n",
       "      <td>1920's</td>\n",
       "      <td>0.312500</td>\n",
       "    </tr>\n",
       "    <tr>\n",
       "      <th>5</th>\n",
       "      <td>1930's</td>\n",
       "      <td>0.318750</td>\n",
       "    </tr>\n",
       "    <tr>\n",
       "      <th>6</th>\n",
       "      <td>1940's</td>\n",
       "      <td>0.156250</td>\n",
       "    </tr>\n",
       "    <tr>\n",
       "      <th>7</th>\n",
       "      <td>1950's</td>\n",
       "      <td>0.131250</td>\n",
       "    </tr>\n",
       "    <tr>\n",
       "      <th>8</th>\n",
       "      <td>1960's</td>\n",
       "      <td>0.181818</td>\n",
       "    </tr>\n",
       "    <tr>\n",
       "      <th>9</th>\n",
       "      <td>1970's</td>\n",
       "      <td>0.073171</td>\n",
       "    </tr>\n",
       "    <tr>\n",
       "      <th>10</th>\n",
       "      <td>1980's</td>\n",
       "      <td>0.100000</td>\n",
       "    </tr>\n",
       "    <tr>\n",
       "      <th>11</th>\n",
       "      <td>1990's</td>\n",
       "      <td>0.093525</td>\n",
       "    </tr>\n",
       "    <tr>\n",
       "      <th>12</th>\n",
       "      <td>2000's</td>\n",
       "      <td>0.076667</td>\n",
       "    </tr>\n",
       "    <tr>\n",
       "      <th>13</th>\n",
       "      <td>2010's</td>\n",
       "      <td>0.066667</td>\n",
       "    </tr>\n",
       "  </tbody>\n",
       "</table>\n",
       "</div>"
      ],
      "text/plain": [
       "    Decade  Team Proportion\n",
       "0   1880's         0.230088\n",
       "1   1890's         0.398551\n",
       "2   1900's         0.315789\n",
       "3   1910's         0.295455\n",
       "4   1920's         0.312500\n",
       "5   1930's         0.318750\n",
       "6   1940's         0.156250\n",
       "7   1950's         0.131250\n",
       "8   1960's         0.181818\n",
       "9   1970's         0.073171\n",
       "10  1980's         0.100000\n",
       "11  1990's         0.093525\n",
       "12  2000's         0.076667\n",
       "13  2010's         0.066667"
      ]
     },
     "execution_count": 20,
     "metadata": {},
     "output_type": "execute_result"
    }
   ],
   "source": [
    "Decades = [\"1880's\", \"1890's\", \"1900's\", \"1910's\", \"1920's\", \"1930's\", \"1940's\", \"1950's\", \"1960's\", \"1970's\", \"1980's\", \"1990's\", \"2000's\", \"2010's\"]\n",
    "Team_Perct = [d1880s/avg_teams_1880s, d1890s/avg_teams_1890s, d1900s/avg_teams_1900s, d1910s/avg_teams_1910s, d1920s/avg_teams_1920s, d1930s/avg_teams_1930s, d1940s/avg_teams_1940s, d1950s/avg_teams_1950s, d1960s/avg_teams_1960s, d1970s/avg_teams_1970s, d1980s/avg_teams_1980s, d1990s/avg_teams_1990s, d2000s/avg_teams_2000s, d2010s/avg_teams_2010s]\n",
    "Team_Rank_dict = {'Decade':Decades, 'Team Proportion':Team_Perct}\n",
    "Team_Rank = pd.DataFrame(Team_Rank_dict)\n",
    "Team_Rank"
   ]
  },
  {
   "cell_type": "code",
   "execution_count": 21,
   "id": "104937cc",
   "metadata": {},
   "outputs": [
    {
     "data": {
      "image/png": "[encoded data removed]",
      "text/plain": [
       "<Figure size 432x288 with 1 Axes>"
      ]
     },
     "metadata": {
      "needs_background": "light"
     },
     "output_type": "display_data"
    }
   ],
   "source": [
    "x = Team_Rank['Decade']\n",
    "y = Team_Rank['Team Proportion']\n",
    "plt.plot(x,y)\n",
    "plt.xticks(rotation=45)\n",
    "plt.title(\"How well did the Dodgers do compared to all other teams in the league?\")\n",
    "plt.xlabel(\"Decade\")\n",
    "plt.ylabel(\"Team Porportion to Other Teams\")\n",
    "plt.gca().invert_yaxis()\n",
    "plt.show()"
   ]
  },
  {
   "cell_type": "markdown",
   "id": "1bc2f259",
   "metadata": {},
   "source": [
    "Ploting this data makes it a little easier to view how well the Dodgers have done over time. The worst that the team did was in the 1890's with a proportion of 40%. Since then, they have had a steady increase over the years to be above the top 10% of teams in the league. There is a slight dip in how good of a team they were in the 1960's, but not as severe of a decrease from the 1950's to 1960's compared to the 1880's to 1890's. \n",
    "\n",
    "Next, let's look compare to our two plots to see if we can see any correlation between rank and overal percentage. "
   ]
  },
  {
   "cell_type": "code",
   "execution_count": 22,
   "id": "9c01b144",
   "metadata": {},
   "outputs": [
    {
     "data": {
      "image/png": "[encoded data removed]",
      "text/plain": [
       "<Figure size 432x288 with 1 Axes>"
      ]
     },
     "metadata": {
      "needs_background": "light"
     },
     "output_type": "display_data"
    },
    {
     "data": {
      "image/png": "[encoded data removed]",
      "text/plain": [
       "<Figure size 432x288 with 1 Axes>"
      ]
     },
     "metadata": {
      "needs_background": "light"
     },
     "output_type": "display_data"
    }
   ],
   "source": [
    "a = decades_rank['Decade']\n",
    "b = decades_rank['Average Rank']\n",
    "plt.plot(x,y)\n",
    "plt.xticks(rotation=45)\n",
    "plt.title(\"Average Rank of LAD Franchise\")\n",
    "plt.xlabel(\"Decade\")\n",
    "plt.ylabel(\"Average Rank\")\n",
    "plt.gca().invert_yaxis()\n",
    "plt.show()\n",
    "\n",
    "x = Team_Rank['Decade']\n",
    "y = Team_Rank['Team Proportion']\n",
    "plt.plot(x,y)\n",
    "plt.xticks(rotation=45)\n",
    "plt.title(\"How well did the Dodgers do compared to all other teams in the league?\")\n",
    "plt.xlabel(\"Decade\")\n",
    "plt.ylabel(\"Team Porportion to Other Teams\")\n",
    "plt.gca().invert_yaxis()\n",
    "plt.show()"
   ]
  },
  {
   "cell_type": "markdown",
   "id": "0c07f438",
   "metadata": {},
   "source": [
    "As we can see, although the numbers are different, these two plots are almost identical. With that, we can definitely say that the rank of the team was proportional and did indicate how well the team was doing overall. \n",
    "\n",
    "Our biggest takeaway here from this data is that the Dodgers, despite the many name changes and the location change of the team, that the Dodgers have been a decent team throughout their history, but within the past 80 years have made the jump to being a top tier team in the league. "
   ]
  },
  {
   "cell_type": "code",
   "execution_count": null,
   "id": "bced3d92",
   "metadata": {},
   "outputs": [],
   "source": []
  }
 ],
 "metadata": {
  "kernelspec": {
   "display_name": "Python 3 (ipykernel)",
   "language": "python",
   "name": "python3"
  },
  "language_info": {
   "codemirror_mode": {
    "name": "ipython",
    "version": 3
   },
   "file_extension": ".py",
   "mimetype": "text/x-python",
   "name": "python",
   "nbconvert_exporter": "python",
   "pygments_lexer": "ipython3",
   "version": "3.9.12"
  }
 },
 "nbformat": 4,
 "nbformat_minor": 5
}
